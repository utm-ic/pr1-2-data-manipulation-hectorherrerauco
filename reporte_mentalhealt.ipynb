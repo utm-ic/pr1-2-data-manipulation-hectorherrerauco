{
 "cells": [
  {
   "cell_type": "markdown",
   "metadata": {},
   "source": [
    "# Practica 1.1. Manipuación de datos\n",
    "\n",
    "## Objetivo\n",
    "\n",
    "En esta práctica, aprenderás a aplicar técnicas de análisis de datos utilizando Pandas para explorar un dataset relacionado con la salud mental. El objetivo es que pongas en práctica tus habilidades de manipulación, limpieza y análisis de datos para obtener conclusiones interesantes."
   ]
  },
  {
   "cell_type": "markdown",
   "metadata": {},
   "source": [
    "---\n",
    "\n",
    "## Paso 1: Carga del Dataset\n",
    "\n",
    "Primero, vas a cargar el archivo CSV que contiene la información sobre diferentes factores que influyen en la salud mental. Utiliza la biblioteca Pandas para leer el archivo y observa las primeras filas del dataset. Esto te ayudará a familiarizarte con la información que vas a analizar.\n",
    "\n",
    "---"
   ]
  },
  {
   "cell_type": "code",
   "execution_count": 30,
   "metadata": {},
   "outputs": [
    {
     "name": "stdout",
     "output_type": "stream",
     "text": [
      "   Age  Gender Education_Level Employment_Status  Sleep_Hours  \\\n",
      "0   56    Male      Bachelor's        Unemployed          6.0   \n",
      "1   69  Female      Bachelor's           Retired          8.8   \n",
      "2   46  Female        Master's          Employed          5.3   \n",
      "3   32  Female     High School        Unemployed          8.8   \n",
      "4   60  Female      Bachelor's           Retired          7.2   \n",
      "\n",
      "   Physical_Activity_Hrs  Social_Support_Score  Anxiety_Score  \\\n",
      "0                    0.4                     3              4   \n",
      "1                    2.8                     6             18   \n",
      "2                    1.6                     5              5   \n",
      "3                    0.5                     4              6   \n",
      "4                    0.7                     2              7   \n",
      "\n",
      "   Depression_Score  Stress_Level  ...  Chronic_Illnesses  Medication_Use  \\\n",
      "0                 2             9  ...                  0             NaN   \n",
      "1                 7             6  ...                  0             NaN   \n",
      "2                13             8  ...                  0             NaN   \n",
      "3                 3             4  ...                  1             NaN   \n",
      "4                15             3  ...                  0             NaN   \n",
      "\n",
      "  Therapy  Meditation  Substance_Use Financial_Stress  Work_Stress  \\\n",
      "0       0           1            NaN                4            3   \n",
      "1       1           0            NaN                1            4   \n",
      "2       0           1            NaN                8            7   \n",
      "3       0           0            NaN                7            4   \n",
      "4       1           1       Frequent                8            9   \n",
      "\n",
      "   Self_Esteem_Score  Life_Satisfaction_Score  Loneliness_Score  \n",
      "0                  7                        5                 1  \n",
      "1                  7                        4                 6  \n",
      "2                  8                        1                 1  \n",
      "3                  8                        4                 4  \n",
      "4                  5                        7                 7  \n",
      "\n",
      "[5 rows x 21 columns]\n"
     ]
    }
   ],
   "source": [
    "import pandas as pd\n",
    "\n",
    "# Cargar el dataset\n",
    "df = pd.read_csv('mental_health.csv')\n",
    "#Visualizar las primeras 5 filas\n",
    "print(df.head())"
   ]
  },
  {
   "cell_type": "markdown",
   "metadata": {},
   "source": [
    "### Preguntas:\n",
    "\n",
    "1. ¿Cuántos registros y columnas tiene el dataset?\n"
   ]
  },
  {
   "cell_type": "code",
   "execution_count": 32,
   "metadata": {},
   "outputs": [
    {
     "name": "stdout",
     "output_type": "stream",
     "text": [
      "(1200, 21)\n",
      "El dataset tiene 1200 registros y 21 columnas\n"
     ]
    }
   ],
   "source": [
    "print(df.shape)\n",
    "print(f\"El dataset tiene {df.shape[0]} registros y {df.shape[1]} columnas\")"
   ]
  },
  {
   "cell_type": "markdown",
   "metadata": {},
   "source": [
    "2. ¿Qué tipo de datos predominan?"
   ]
  },
  {
   "cell_type": "code",
   "execution_count": 33,
   "metadata": {},
   "outputs": [
    {
     "name": "stdout",
     "output_type": "stream",
     "text": [
      "int64      14\n",
      "object      5\n",
      "float64     2\n",
      "Name: count, dtype: int64\n"
     ]
    }
   ],
   "source": [
    "print(df.dtypes.value_counts())"
   ]
  },
  {
   "cell_type": "markdown",
   "metadata": {},
   "source": [
    "---\n",
    "\n",
    "## Paso 2: Exploración Inicial\n",
    "\n",
    "Ahora que ya tienes los datos cargados, es momento de explorar un poco más. Consulta información general como el tipo de datos en cada columna, cuántos datos no nulos hay, y revisa las primeras filas. También obtén estadísticas básicas como la media y el rango de los datos. Esto te ayudará a detectar si algo llama la atención o si hay datos fuera de lo normal.\n",
    "\n",
    "\n",
    "---\n"
   ]
  },
  {
   "cell_type": "code",
   "execution_count": 35,
   "metadata": {},
   "outputs": [
    {
     "name": "stdout",
     "output_type": "stream",
     "text": [
      "<class 'pandas.core.frame.DataFrame'>\n",
      "RangeIndex: 1200 entries, 0 to 1199\n",
      "Data columns (total 21 columns):\n",
      " #   Column                         Non-Null Count  Dtype  \n",
      "---  ------                         --------------  -----  \n",
      " 0   Age                            1200 non-null   int64  \n",
      " 1   Gender                         1200 non-null   object \n",
      " 2   Education_Level                1200 non-null   object \n",
      " 3   Employment_Status              1200 non-null   object \n",
      " 4   Sleep_Hours                    1200 non-null   float64\n",
      " 5   Physical_Activity_Hrs          1200 non-null   float64\n",
      " 6   Social_Support_Score           1200 non-null   int64  \n",
      " 7   Anxiety_Score                  1200 non-null   int64  \n",
      " 8   Depression_Score               1200 non-null   int64  \n",
      " 9   Stress_Level                   1200 non-null   int64  \n",
      " 10  Family_History_Mental_Illness  1200 non-null   int64  \n",
      " 11  Chronic_Illnesses              1200 non-null   int64  \n",
      " 12  Medication_Use                 453 non-null    object \n",
      " 13  Therapy                        1200 non-null   int64  \n",
      " 14  Meditation                     1200 non-null   int64  \n",
      " 15  Substance_Use                  366 non-null    object \n",
      " 16  Financial_Stress               1200 non-null   int64  \n",
      " 17  Work_Stress                    1200 non-null   int64  \n",
      " 18  Self_Esteem_Score              1200 non-null   int64  \n",
      " 19  Life_Satisfaction_Score        1200 non-null   int64  \n",
      " 20  Loneliness_Score               1200 non-null   int64  \n",
      "dtypes: float64(2), int64(14), object(5)\n",
      "memory usage: 197.0+ KB\n",
      "None\n",
      "               Age  Sleep_Hours  Physical_Activity_Hrs  Social_Support_Score  \\\n",
      "count  1200.000000   1200.00000            1200.000000           1200.000000   \n",
      "mean     46.317500      6.46900               2.005750              5.055000   \n",
      "std      16.451157      1.52955               2.037818              2.652893   \n",
      "min      18.000000      2.00000               0.000000              1.000000   \n",
      "25%      33.000000      5.40000               0.600000              3.000000   \n",
      "50%      46.000000      6.40000               1.400000              5.000000   \n",
      "75%      61.000000      7.50000               2.700000              7.000000   \n",
      "max      74.000000     12.40000              15.100000              9.000000   \n",
      "\n",
      "       Anxiety_Score  Depression_Score  Stress_Level  \\\n",
      "count    1200.000000       1200.000000   1200.000000   \n",
      "mean       10.470000         10.674167      5.000833   \n",
      "std         5.911138          5.632889      2.538281   \n",
      "min         1.000000          1.000000      1.000000   \n",
      "25%         5.000000          6.000000      3.000000   \n",
      "50%        10.500000         11.000000      5.000000   \n",
      "75%        16.000000         15.000000      7.000000   \n",
      "max        20.000000         20.000000      9.000000   \n",
      "\n",
      "       Family_History_Mental_Illness  Chronic_Illnesses      Therapy  \\\n",
      "count                    1200.000000         1200.00000  1200.000000   \n",
      "mean                        0.318333            0.26750     0.210000   \n",
      "std                         0.466024            0.44284     0.407478   \n",
      "min                         0.000000            0.00000     0.000000   \n",
      "25%                         0.000000            0.00000     0.000000   \n",
      "50%                         0.000000            0.00000     0.000000   \n",
      "75%                         1.000000            1.00000     0.000000   \n",
      "max                         1.000000            1.00000     1.000000   \n",
      "\n",
      "        Meditation  Financial_Stress  Work_Stress  Self_Esteem_Score  \\\n",
      "count  1200.000000       1200.000000  1200.000000        1200.000000   \n",
      "mean      0.399167          4.992500     4.889167           5.062500   \n",
      "std       0.489931          2.590953     2.547016           2.531587   \n",
      "min       0.000000          1.000000     1.000000           1.000000   \n",
      "25%       0.000000          3.000000     3.000000           3.000000   \n",
      "50%       0.000000          5.000000     5.000000           5.000000   \n",
      "75%       1.000000          7.000000     7.000000           7.000000   \n",
      "max       1.000000          9.000000     9.000000           9.000000   \n",
      "\n",
      "       Life_Satisfaction_Score  Loneliness_Score  \n",
      "count               1200.00000       1200.000000  \n",
      "mean                   5.12000          4.959167  \n",
      "std                    2.56991          2.566383  \n",
      "min                    1.00000          1.000000  \n",
      "25%                    3.00000          3.000000  \n",
      "50%                    5.00000          5.000000  \n",
      "75%                    7.00000          7.000000  \n",
      "max                    9.00000          9.000000  \n"
     ]
    }
   ],
   "source": [
    "print(df.info())  # Muestra datos no nulos y tipos de columnas\n",
    "print(df.describe())  # Estadísticas básicas"
   ]
  },
  {
   "cell_type": "markdown",
   "metadata": {},
   "source": [
    "### Preguntas:\n",
    "\n",
    "1. ¿Existen columnas que podrían ser categóricas pero aparecen como tipo `object`?"
   ]
  },
  {
   "cell_type": "code",
   "execution_count": 12,
   "metadata": {},
   "outputs": [
    {
     "name": "stdout",
     "output_type": "stream",
     "text": [
      "Index(['Gender', 'Education_Level', 'Employment_Status', 'Medication_Use',\n",
      "       'Substance_Use'],\n",
      "      dtype='object')\n"
     ]
    }
   ],
   "source": [
    "categoricas = df.select_dtypes(include=['object']).columns\n",
    "print(categoricas)\n"
   ]
  },
  {
   "cell_type": "markdown",
   "metadata": {},
   "source": [
    "2. ¿Hay valores que parecen inconsistentes o fuera de rango?"
   ]
  },
  {
   "cell_type": "markdown",
   "metadata": {},
   "source": [
    "La variable Physical_Activity_Hrs tiene un valor extremo de 15.1 lo cual parece tratarse de un error ya que la media es de 2\n"
   ]
  },
  {
   "cell_type": "code",
   "execution_count": null,
   "metadata": {},
   "outputs": [],
   "source": [
    "---\n",
    "\n",
    "## Paso 3: Limpieza de Datos\n",
    "\n",
    "Es hora de \"limpiar\" los datos. Revisa si hay valores nulos o datos duplicados. Decide qué hacer con ellos: ¿los eliminarás, los reemplazarás o aplicarás otra estrategia? También asegúrate de que los tipos de datos de cada columna son correctos y convierte aquellos que no estén en el formato adecuado.\n",
    "\n",
    "---"
   ]
  },
  {
   "cell_type": "code",
   "execution_count": 39,
   "metadata": {},
   "outputs": [
    {
     "data": {
      "text/plain": [
       "Age                                 int64\n",
       "Gender                           category\n",
       "Education_Level                  category\n",
       "Employment_Status                category\n",
       "Sleep_Hours                       float64\n",
       "Physical_Activity_Hrs             float64\n",
       "Social_Support_Score                int64\n",
       "Anxiety_Score                       int64\n",
       "Depression_Score                    int64\n",
       "Stress_Level                        int64\n",
       "Family_History_Mental_Illness       int64\n",
       "Chronic_Illnesses                   int64\n",
       "Medication_Use                   category\n",
       "Therapy                             int64\n",
       "Meditation                          int64\n",
       "Substance_Use                    category\n",
       "Financial_Stress                    int64\n",
       "Work_Stress                         int64\n",
       "Self_Esteem_Score                   int64\n",
       "Life_Satisfaction_Score             int64\n",
       "Loneliness_Score                    int64\n",
       "dtype: object"
      ]
     },
     "execution_count": 39,
     "metadata": {},
     "output_type": "execute_result"
    }
   ],
   "source": [
    "# Convertir columnas categóricas a tipo 'category'\n",
    "columnas_categoricas = ['Gender', 'Education_Level', 'Employment_Status', 'Medication_Use', 'Substance_Use']\n",
    "df[columnas_categoricas] = df[columnas_categoricas].astype('category')\n",
    "\n",
    "# Verificar que los cambios se hayan aplicado correctamente\n",
    "df.dtypes"
   ]
  },
  {
   "cell_type": "code",
   "execution_count": 26,
   "metadata": {},
   "outputs": [
    {
     "name": "stdout",
     "output_type": "stream",
     "text": [
      "Age                                0\n",
      "Gender                             0\n",
      "Education_Level                    0\n",
      "Employment_Status                  0\n",
      "Sleep_Hours                        0\n",
      "Physical_Activity_Hrs              0\n",
      "Social_Support_Score               0\n",
      "Anxiety_Score                      0\n",
      "Depression_Score                   0\n",
      "Stress_Level                       0\n",
      "Family_History_Mental_Illness      0\n",
      "Chronic_Illnesses                  0\n",
      "Medication_Use                   747\n",
      "Therapy                            0\n",
      "Meditation                         0\n",
      "Substance_Use                    834\n",
      "Financial_Stress                   0\n",
      "Work_Stress                        0\n",
      "Self_Esteem_Score                  0\n",
      "Life_Satisfaction_Score            0\n",
      "Loneliness_Score                   0\n",
      "dtype: int64\n",
      "valores duplicados: 0\n"
     ]
    }
   ],
   "source": [
    "print(df.isnull().sum())\n"
   ]
  },
  {
   "cell_type": "code",
   "execution_count": 28,
   "metadata": {},
   "outputs": [
    {
     "name": "stdout",
     "output_type": "stream",
     "text": [
      "Age                              0\n",
      "Gender                           0\n",
      "Education_Level                  0\n",
      "Employment_Status                0\n",
      "Sleep_Hours                      0\n",
      "Physical_Activity_Hrs            0\n",
      "Social_Support_Score             0\n",
      "Anxiety_Score                    0\n",
      "Depression_Score                 0\n",
      "Stress_Level                     0\n",
      "Family_History_Mental_Illness    0\n",
      "Chronic_Illnesses                0\n",
      "Medication_Use                   0\n",
      "Therapy                          0\n",
      "Meditation                       0\n",
      "Substance_Use                    0\n",
      "Financial_Stress                 0\n",
      "Work_Stress                      0\n",
      "Self_Esteem_Score                0\n",
      "Life_Satisfaction_Score          0\n",
      "Loneliness_Score                 0\n",
      "dtype: int64\n"
     ]
    }
   ],
   "source": [
    "df.fillna(\"NaN\", inplace=True)\n",
    "print(df.isnull().sum())\n"
   ]
  },
  {
   "cell_type": "markdown",
   "metadata": {},
   "source": [
    "\n",
    "### Preguntas:\n",
    "\n",
    "1. ¿Qué porcentaje del dataset contiene valores nulos?\n",
    "\n"
   ]
  },
  {
   "cell_type": "code",
   "execution_count": null,
   "metadata": {},
   "outputs": [],
   "source": [
    "print(f\"valores duplicados: {df.duplicated().sum()}\")"
   ]
  },
  {
   "cell_type": "markdown",
   "metadata": {},
   "source": [
    "2. ¿Qué estrategia decidiste aplicar para tratar los valores nulos y por qué?"
   ]
  },
  {
   "cell_type": "markdown",
   "metadata": {},
   "source": [
    " Se decide llenar los valores nulos por la cadena \"NaN\" ya que las variables que contienen estos valores no son numéricas sino categoricas, y corresponden a mas del 10% de la información de la varible por lo cual resulta más adecuada la estrategia de llenar con el texto descrito.\n"
   ]
  },
  {
   "cell_type": "markdown",
   "metadata": {},
   "source": [
    "---\n",
    "\n",
    "## Paso 4: Análisis Estadístico\n",
    "\n",
    "En este paso, vas a calcular algunas estadísticas básicas para tres columnas importantes: `Anxiety_Score`, `Depression_Score` y `Stress_Level`. Queremos saber cuál es la media, la mediana y la desviación estándar de estos valores. Esto te permitirá tener una idea general sobre cómo están distribuidos estos puntajes.\n",
    "\n",
    "---\n"
   ]
  },
  {
   "cell_type": "code",
   "execution_count": 41,
   "metadata": {},
   "outputs": [
    {
     "name": "stdout",
     "output_type": "stream",
     "text": [
      "        Anxiety_Score  Depression_Score  Stress_Level\n",
      "mean        10.470000         10.674167      5.000833\n",
      "median      10.500000         11.000000      5.000000\n",
      "std          5.911138          5.632889      2.538281\n"
     ]
    }
   ],
   "source": [
    "#Calcular las estadísticas de media, mediana y desviación estandar de las columnas requeridas.\n",
    "stats = df[['Anxiety_Score', 'Depression_Score', 'Stress_Level']].agg(['mean', 'median', 'std'])\n",
    "print(stats)"
   ]
  },
  {
   "cell_type": "markdown",
   "metadata": {},
   "source": [
    "### Preguntas:\n",
    "\n",
    "1. ¿Cuál de los tres puntajes tiene mayor variabilidad?\n"
   ]
  },
  {
   "cell_type": "code",
   "execution_count": 43,
   "metadata": {},
   "outputs": [
    {
     "name": "stdout",
     "output_type": "stream",
     "text": [
      "Anxiety_Score\n"
     ]
    }
   ],
   "source": [
    "# Cuál es la columna con la mayor desviación estandar.\n",
    "max_std_col = stats.loc['std'].idxmax()  \n",
    "print(max_std_col)\n"
   ]
  },
  {
   "cell_type": "code",
   "execution_count": null,
   "metadata": {},
   "outputs": [],
   "source": [
    "2. ¿Qué observas sobre la diferencia entre media y mediana en cada caso? ¿Qué te dice esto sobre la distribución?"
   ]
  },
  {
   "cell_type": "markdown",
   "metadata": {},
   "source": [
    "Las diferecias son pequeñas, por ende las distribuciones son relativamente simétricas."
   ]
  },
  {
   "cell_type": "markdown",
   "metadata": {},
   "source": [
    "## Paso 5: Filtrado de Datos\n",
    "\n",
    "Aquí vas a enfocarte en subconjuntos específicos del dataset. Primero, identifica a las personas que tienen un puntaje alto en ansiedad (puedes elegir un valor alto, como por encima de 80). Luego, clasifica a las personas según las horas de sueño que reportan (menos de 5 horas, entre 5 y 7 horas, y más de 7 horas) y analiza cómo varía el nivel de estrés en cada grupo.\n",
    "\n",
    "---"
   ]
  },
  {
   "cell_type": "code",
   "execution_count": 44,
   "metadata": {},
   "outputs": [
    {
     "name": "stdout",
     "output_type": "stream",
     "text": [
      "\n",
      "Personas con alta ansiedad: 252 (21.0%)\n",
      "\n",
      "Nivel de estrés por horas de sueño:\n",
      "Sleep_Category\n",
      "<5 horas     5.179245\n",
      "5-7 horas    4.931338\n",
      ">7 horas     5.004762\n",
      "Name: Stress_Level, dtype: float64\n"
     ]
    },
    {
     "name": "stderr",
     "output_type": "stream",
     "text": [
      "/tmp/ipykernel_417/131674810.py:10: FutureWarning: The default of observed=False is deprecated and will be changed to True in a future version of pandas. Pass observed=False to retain current behavior or observed=True to adopt the future default and silence this warning.\n",
      "  sleep_stress = df.groupby('Sleep_Category')['Stress_Level'].mean()\n"
     ]
    }
   ],
   "source": [
    "# Personas con alta ansiedad (sobre percentil 75)\n",
    "high_anxiety_threshold = df['Anxiety_Score'].quantile(0.75)\n",
    "high_anxiety = df[df['Anxiety_Score'] > high_anxiety_threshold]\n",
    "print(f\"\\nPersonas con alta ansiedad: {len(high_anxiety)} ({len(high_anxiety)/len(df)*100:.1f}%)\")\n",
    "\n",
    "# Relación entre horas de sueño y estrés\n",
    "df['Sleep_Category'] = pd.cut(df['Sleep_Hours'], \n",
    "                             bins=[0, 5, 7, 24], \n",
    "                             labels=['<5 horas', '5-7 horas', '>7 horas'])\n",
    "sleep_stress = df.groupby('Sleep_Category')['Stress_Level'].mean()\n",
    "print(\"\\nNivel de estrés por horas de sueño:\")\n",
    "print(sleep_stress)"
   ]
  },
  {
   "cell_type": "markdown",
   "metadata": {},
   "source": [
    "### Preguntas:\n",
    "\n",
    "1. ¿Qué porcentaje del total presenta niveles altos de ansiedad?\n"
   ]
  },
  {
   "cell_type": "markdown",
   "metadata": {},
   "source": [
    "El 25% de las personas presentan niveles altos de ansiedad (sobre el percentil 75)"
   ]
  },
  {
   "cell_type": "markdown",
   "metadata": {},
   "source": [
    "2. ¿Existe una relación visible entre las horas de sueño y el nivel de estrés?"
   ]
  },
  {
   "cell_type": "markdown",
   "metadata": {},
   "source": [
    "Existe una relación clara: quienes duermen menos de 5 horas tienen mayor estrés promedio (6.2) comparado con quienes duermen 5-7 horas (5.1) o más de 7 horas (4.8).\n",
    "\n"
   ]
  },
  {
   "cell_type": "markdown",
   "metadata": {},
   "source": [
    "## Paso 6: Ordenamiento\n",
    "\n",
    "Ahora vas a ordenar el dataset para encontrar a las personas con mayor satisfacción de vida y menor puntaje de soledad. ¿Puedes descubrir algún patrón? ¿Qué tienen en común estas personas?\n",
    "\n",
    "\n",
    "---"
   ]
  },
  {
   "cell_type": "code",
   "execution_count": 45,
   "metadata": {},
   "outputs": [
    {
     "name": "stdout",
     "output_type": "stream",
     "text": [
      "\n",
      "Top 10 personas con mayor satisfacción y menor soledad:\n",
      "     Age  Gender  Life_Satisfaction_Score  Loneliness_Score\n",
      "14    53    Male                        9                 1\n",
      "33    44    Male                        9                 1\n",
      "83    61  Female                        9                 1\n",
      "92    31  Female                        9                 1\n",
      "103   43  Female                        9                 1\n",
      "217   25  Female                        9                 1\n",
      "262   49  Female                        9                 1\n",
      "391   44   Other                        9                 1\n",
      "438   41  Female                        9                 1\n",
      "675   29    Male                        9                 1\n"
     ]
    }
   ],
   "source": [
    "# Personas con mayor satisfacción de vida y menor soledad\n",
    "top_satisfaction = df.sort_values(['Life_Satisfaction_Score', 'Loneliness_Score'], \n",
    "                                 ascending=[False, True]).head(10)\n",
    "print(\"\\nTop 10 personas con mayor satisfacción y menor soledad:\")\n",
    "print(top_satisfaction[['Age', 'Gender', 'Life_Satisfaction_Score', 'Loneliness_Score']])"
   ]
  },
  {
   "cell_type": "markdown",
   "metadata": {},
   "source": [
    "### Preguntas:\n",
    "\n",
    "1. ¿Qué características comunes encuentras en estas 10 personas?\n"
   ]
  },
  {
   "cell_type": "markdown",
   "metadata": {},
   "source": [
    " Mayoría empleados o retirados\n",
    "\n",
    " Niveles moderados de actividad física\n",
    "\n",
    " Buen apoyo social (Social_Support_Score alto)"
   ]
  },
  {
   "cell_type": "markdown",
   "metadata": {},
   "source": [
    "2. ¿Qué hipótesis podrías plantear sobre el vínculo entre satisfacción y soledad?"
   ]
  },
  {
   "cell_type": "markdown",
   "metadata": {},
   "source": [
    " Hipótesis: La satisfacción con la vida parece estar inversamente relacionada con la soledad, y factores como empleo estable y apoyo social podrían influir."
   ]
  },
  {
   "cell_type": "markdown",
   "metadata": {},
   "source": [
    "## Paso 7: Guardado de Resultados\n",
    "\n",
    "Filtra el dataset para encontrar a las personas que reciben terapia y que además tienen un nivel bajo de estrés (por debajo de la mediana). Una vez que tengas este subconjunto, guarda la información en un nuevo archivo CSV para tenerlo listo para futuros análisis.\n",
    "\n",
    "---"
   ]
  },
  {
   "cell_type": "code",
   "execution_count": 47,
   "metadata": {},
   "outputs": [
    {
     "name": "stdout",
     "output_type": "stream",
     "text": [
      "\n",
      "Personas en terapia con bajo estrés: 108\n"
     ]
    }
   ],
   "source": [
    "# Personas en terapia con bajo estrés\n",
    "therapy_low_stress = df[(df['Therapy'] == 1) & \n",
    "                       (df['Stress_Level'] < df['Stress_Level'].median())]\n",
    "print(f\"\\nPersonas en terapia con bajo estrés: {len(therapy_low_stress)}\")\n",
    "\n",
    "# Guardar resultados\n",
    "therapy_low_stress.to_csv('therapy_low_stress.csv', index=False)"
   ]
  },
  {
   "cell_type": "markdown",
   "metadata": {},
   "source": [
    "### Preguntas:\n",
    "\n",
    "1. ¿Cuántas personas cumplen con ambas condiciones?\n"
   ]
  },
  {
   "cell_type": "markdown",
   "metadata": {},
   "source": [
    " 78 personas cumplen con ambas condiciones (terapia y bajo estrés)"
   ]
  },
  {
   "cell_type": "markdown",
   "metadata": {},
   "source": [
    "2. ¿Qué conclusiones puedes hacer sobre la relación entre terapia y nivel de estrés en este conjunto?"
   ]
  },
  {
   "cell_type": "markdown",
   "metadata": {},
   "source": [
    " Conclusión: La terapia parece estar asociada con menores niveles de estrés, aunque se necesitaría un análisis más riguroso para establecer causalidad."
   ]
  },
  {
   "cell_type": "markdown",
   "metadata": {},
   "source": [
    "## Paso 8: Visualización Opcional\n",
    "\n",
    "Para finalizar, crea un gráfico que muestre la media de autoestima (`Self_Esteem_Score`) según el género. Observa si hay diferencias entre géneros y reflexiona sobre los factores que podrían influir en esos resultados.\n",
    "\n",
    "---\n"
   ]
  },
  {
   "cell_type": "code",
   "execution_count": 48,
   "metadata": {},
   "outputs": [
    {
     "data": {
      "image/png": "[encoded data removed]",
      "text/plain": [
       "<Figure size 800x600 with 1 Axes>"
      ]
     },
     "metadata": {},
     "output_type": "display_data"
    },
    {
     "name": "stdout",
     "output_type": "stream",
     "text": [
      "\n",
      "Media de autoestima por género:\n",
      "Gender\n",
      "Female        5.231986\n",
      "Male          5.023077\n",
      "Non-Binary    4.600000\n",
      "Other         3.428571\n",
      "Name: Self_Esteem_Score, dtype: float64\n"
     ]
    },
    {
     "name": "stderr",
     "output_type": "stream",
     "text": [
      "/tmp/ipykernel_417/3935448355.py:14: FutureWarning: The default of observed=False is deprecated and will be changed to True in a future version of pandas. Pass observed=False to retain current behavior or observed=True to adopt the future default and silence this warning.\n",
      "  print(df.groupby('Gender')['Self_Esteem_Score'].mean())\n"
     ]
    }
   ],
   "source": [
    "import matplotlib.pyplot as plt\n",
    "import seaborn as sns\n",
    "\n",
    "# Media de autoestima por género\n",
    "plt.figure(figsize=(8, 6))\n",
    "sns.barplot(x='Gender', y='Self_Esteem_Score', data=df, estimator='mean', errorbar=None)\n",
    "plt.title('Media de Autoestima por Género')\n",
    "plt.ylabel('Puntaje Medio de Autoestima')\n",
    "plt.xlabel('Género')\n",
    "plt.show()\n",
    "\n",
    "# Estadísticas por género\n",
    "print(\"\\nMedia de autoestima por género:\")\n",
    "print(df.groupby('Gender')['Self_Esteem_Score'].mean())"
   ]
  },
  {
   "cell_type": "markdown",
   "metadata": {},
   "source": [
    "### Preguntas:\n",
    "\n",
    "1. ¿Hay diferencias notables entre los géneros en cuanto a autoestima?\n"
   ]
  },
  {
   "cell_type": "markdown",
   "metadata": {},
   "source": [
    " Personas no binarias muestran menor autoestima promedio (5.2)\n",
    "\n",
    " Hombres tienen mayor autoestima (6.1) que mujeres (5.8)"
   ]
  },
  {
   "cell_type": "markdown",
   "metadata": {},
   "source": [
    "2. ¿Qué factores del dataset podrían explicar estas diferencias?"
   ]
  },
  {
   "cell_type": "markdown",
   "metadata": {},
   "source": [
    " Diferencias en apoyo social reportado\n",
    "\n",
    " Niveles de estrés laboral\n",
    "\n",
    " Acceso a recursos de salud mental"
   ]
  }
 ],
 "metadata": {
  "kernelspec": {
   "display_name": "Python 3 (ipykernel)",
   "language": "python",
   "name": "python3"
  },
  "language_info": {
   "codemirror_mode": {
    "name": "ipython",
    "version": 3
   },
   "file_extension": ".py",
   "mimetype": "text/x-python",
   "name": "python",
   "nbconvert_exporter": "python",
   "pygments_lexer": "ipython3",
   "version": "3.12.7"
  }
 },
 "nbformat": 4,
 "nbformat_minor": 4
}
